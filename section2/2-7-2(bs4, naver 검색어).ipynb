{
 "cells": [
  {
   "cell_type": "markdown",
   "metadata": {},
   "source": [
    "181216\n",
    "네이버 실시간 검색어 추출"
   ]
  },
  {
   "cell_type": "code",
   "execution_count": 1,
   "metadata": {},
   "outputs": [],
   "source": [
    "from bs4 import BeautifulSoup\n",
    "import urllib.request as req\n",
    "import sys\n",
    "import io"
   ]
  },
  {
   "cell_type": "code",
   "execution_count": 2,
   "metadata": {},
   "outputs": [],
   "source": [
    "url = \"https://www.naver.com/\"\n",
    "res = req.urlopen(url).read()\n",
    "soup = BeautifulSoup(res, \"html.parser\")"
   ]
  },
  {
   "cell_type": "markdown",
   "metadata": {},
   "source": [
    "ul 태그 밑에 class는 ah_l에 실시간 검색어가 포함되어 있음<br>\n",
    "총 3개의 ul.ah_l이 있다.\n",
    "- soup.select(\"ul.ah_l\")[0] : 총 20개 전체 순위\n",
    "- soup.select(\"ul.ah_l\")[1] : 1~10위 까지 검색어 순위\n",
    "- soup.select(\"ul.ah_l\")[2] : 11~20위 까지 검색어 순위"
   ]
  },
  {
   "cell_type": "code",
   "execution_count": 3,
   "metadata": {
    "scrolled": true
   },
   "outputs": [
    {
     "name": "stdout",
     "output_type": "stream",
     "text": [
      "<class 'bs4.element.Tag'>\n"
     ]
    }
   ],
   "source": [
    "top = soup.select(\"ul.ah_l\")\n",
    "# print(len(top))\n",
    "search = soup.select(\"ul.ah_l\")[0]\n",
    "# print(search)\n",
    "print(type(search))"
   ]
  },
  {
   "cell_type": "markdown",
   "metadata": {},
   "source": [
    "soup.select(\"ul.ah_l\")[0]에서 검색어와 관련된 \"span.ah_k\"을 select_one을 통해 가져오려 했으나 에러가 발생하였는데 다음과 같다."
   ]
  },
  {
   "cell_type": "code",
   "execution_count": 4,
   "metadata": {
    "scrolled": false
   },
   "outputs": [
    {
     "name": "stdout",
     "output_type": "stream",
     "text": [
      "에러 내용\n",
      " 'NavigableString' object has no attribute 'select_one'\n",
      "맨유 리버풀\n",
      "에러 내용\n",
      " 'NavigableString' object has no attribute 'select_one'\n",
      "리버풀 맨유\n",
      "에러 내용\n",
      " 'NavigableString' object has no attribute 'select_one'\n",
      "프리파이어\n",
      "에러 내용\n",
      " 'NavigableString' object has no attribute 'select_one'\n",
      "배정남 부모\n",
      "에러 내용\n",
      " 'NavigableString' object has no attribute 'select_one'\n",
      "회사원\n",
      "에러 내용\n",
      " 'NavigableString' object has no attribute 'select_one'\n",
      "장국영\n",
      "에러 내용\n",
      " 'NavigableString' object has no attribute 'select_one'\n",
      "경첨\n",
      "에러 내용\n",
      " 'NavigableString' object has no attribute 'select_one'\n",
      "박주미 남편직업\n",
      "에러 내용\n",
      " 'NavigableString' object has no attribute 'select_one'\n",
      "농협 점검시간\n",
      "에러 내용\n",
      " 'NavigableString' object has no attribute 'select_one'\n",
      "파비뉴\n",
      "에러 내용\n",
      " 'NavigableString' object has no attribute 'select_one'\n",
      "그레이트 월\n",
      "에러 내용\n",
      " 'NavigableString' object has no attribute 'select_one'\n",
      "맨유\n",
      "에러 내용\n",
      " 'NavigableString' object has no attribute 'select_one'\n",
      "더 테러 라이브\n",
      "에러 내용\n",
      " 'NavigableString' object has no attribute 'select_one'\n",
      "알리송\n",
      "에러 내용\n",
      " 'NavigableString' object has no attribute 'select_one'\n",
      "아스날\n",
      "에러 내용\n",
      " 'NavigableString' object has no attribute 'select_one'\n",
      "설현\n",
      "에러 내용\n",
      " 'NavigableString' object has no attribute 'select_one'\n",
      "왕가위\n",
      "에러 내용\n",
      " 'NavigableString' object has no attribute 'select_one'\n",
      "정태진\n",
      "에러 내용\n",
      " 'NavigableString' object has no attribute 'select_one'\n",
      "원피스 865화 애니\n",
      "에러 내용\n",
      " 'NavigableString' object has no attribute 'select_one'\n",
      "인덱스\n",
      "에러 내용\n",
      " 'NavigableString' object has no attribute 'select_one'\n"
     ]
    }
   ],
   "source": [
    "for e in search:\n",
    "    try:\n",
    "        print(e.select_one(\"span.ah_k\").string)\n",
    "    except Exception as ex: \n",
    "        print('에러 내용\\n', ex) "
   ]
  },
  {
   "cell_type": "markdown",
   "metadata": {},
   "source": [
    "따라서 다음과 같이<br>\n",
    "'NavigableString'이면 e.find(\"span\") = -1이기 때문에 아닌 경우만 출력"
   ]
  },
  {
   "cell_type": "code",
   "execution_count": 5,
   "metadata": {
    "scrolled": false
   },
   "outputs": [
    {
     "name": "stdout",
     "output_type": "stream",
     "text": [
      "1 맨유 리버풀\n",
      "2 리버풀 맨유\n",
      "3 프리파이어\n",
      "4 배정남 부모\n",
      "5 회사원\n",
      "6 장국영\n",
      "7 경첨\n",
      "8 박주미 남편직업\n",
      "9 농협 점검시간\n",
      "10 파비뉴\n",
      "11 그레이트 월\n",
      "12 맨유\n",
      "13 더 테러 라이브\n",
      "14 알리송\n",
      "15 아스날\n",
      "16 설현\n",
      "17 왕가위\n",
      "18 정태진\n",
      "19 원피스 865화 애니\n",
      "20 인덱스\n"
     ]
    }
   ],
   "source": [
    "i=1\n",
    "for e in search:\n",
    "    if e.find(\"span\") is not -1:\n",
    "        print(i,e.select_one(\"span.ah_k\").string)\n",
    "        i = i + 1"
   ]
  }
 ],
 "metadata": {
  "kernelspec": {
   "display_name": "Python 3",
   "language": "python",
   "name": "python3"
  },
  "language_info": {
   "codemirror_mode": {
    "name": "ipython",
    "version": 3
   },
   "file_extension": ".py",
   "mimetype": "text/x-python",
   "name": "python",
   "nbconvert_exporter": "python",
   "pygments_lexer": "ipython3",
   "version": "3.5.5"
  }
 },
 "nbformat": 4,
 "nbformat_minor": 2
}
