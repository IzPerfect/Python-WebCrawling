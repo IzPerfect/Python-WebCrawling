{
 "cells": [
  {
   "cell_type": "markdown",
   "metadata": {},
   "source": [
    "181216"
   ]
  },
  {
   "cell_type": "code",
   "execution_count": 1,
   "metadata": {
    "collapsed": true
   },
   "outputs": [],
   "source": [
    "from bs4 import BeautifulSoup\n",
    "import urllib.request as req\n",
    "import sys\n",
    "import io"
   ]
  },
  {
   "cell_type": "markdown",
   "metadata": {},
   "source": [
    "주식 관련 내용 스크래핑"
   ]
  },
  {
   "cell_type": "code",
   "execution_count": 2,
   "metadata": {
    "scrolled": true
   },
   "outputs": [],
   "source": [
    "url = \"http://finance.naver.com/sise/\"\n",
    "res = req.urlopen(url).read()\n",
    "soup = BeautifulSoup(res, \"html.parser\")\n",
    "\n",
    "top = soup.select(\"#siselist_tab_0 > tr\")\n",
    "# print(top)"
   ]
  },
  {
   "cell_type": "markdown",
   "metadata": {},
   "source": [
    "a 태그가 있다면"
   ]
  },
  {
   "cell_type": "code",
   "execution_count": 3,
   "metadata": {
    "scrolled": false
   },
   "outputs": [
    {
     "name": "stdout",
     "output_type": "stream",
     "text": [
      "1 에스제이케이 = 4,490\n",
      "2 옐로페이 = 83\n",
      "3 판도라티비 = 1,160\n",
      "4 영현무역 = 277\n"
     ]
    }
   ],
   "source": [
    "i = 1\n",
    "for e in top:\n",
    "    if e.find(\"a\") is not None: # None이 아닌 경우만 출력\n",
    "        print(i,e.select_one(\".tltle\").string,\"=\",e.select_one(\"td:nth-of-type(5)\").string)\n",
    "        i += 1"
   ]
  }
 ],
 "metadata": {
  "kernelspec": {
   "display_name": "Python 3",
   "language": "python",
   "name": "python3"
  },
  "language_info": {
   "codemirror_mode": {
    "name": "ipython",
    "version": 3
   },
   "file_extension": ".py",
   "mimetype": "text/x-python",
   "name": "python",
   "nbconvert_exporter": "python",
   "pygments_lexer": "ipython3",
   "version": "3.5.5"
  }
 },
 "nbformat": 4,
 "nbformat_minor": 2
}
