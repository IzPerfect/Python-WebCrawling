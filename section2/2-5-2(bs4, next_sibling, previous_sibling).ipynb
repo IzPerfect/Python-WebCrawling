{
 "cells": [
  {
   "cell_type": "markdown",
   "metadata": {},
   "source": [
    "181215<br>\n",
    "### BeautifulSoup 기본\n",
    "- html 파싱해보기"
   ]
  },
  {
   "cell_type": "code",
   "execution_count": 1,
   "metadata": {
    "collapsed": true
   },
   "outputs": [],
   "source": [
    "from bs4 import BeautifulSoup\n",
    "import sys\n",
    "import io"
   ]
  },
  {
   "cell_type": "code",
   "execution_count": 2,
   "metadata": {},
   "outputs": [],
   "source": [
    "html = \"\"\"\n",
    "<html>\n",
    "<body>\n",
    "<h1>body의 h1태크 사용</h1>\n",
    "<p>문단 나누는 p태그사용1</p>\n",
    "<p>문단 나누는 p태그사용2</p>\n",
    "</body>\n",
    "</html>\n",
    "\"\"\""
   ]
  },
  {
   "cell_type": "markdown",
   "metadata": {},
   "source": [
    "html.parser는 *.html 형식의 파일을 파싱할 수 있도록 지원하는 모듈"
   ]
  },
  {
   "cell_type": "code",
   "execution_count": 3,
   "metadata": {},
   "outputs": [
    {
     "name": "stdout",
     "output_type": "stream",
     "text": [
      "soup type :  <class 'bs4.BeautifulSoup'>\n"
     ]
    }
   ],
   "source": [
    "soup = BeautifulSoup(html, 'html.parser')\n",
    "print('soup type : ', type(soup))"
   ]
  },
  {
   "cell_type": "code",
   "execution_count": 4,
   "metadata": {},
   "outputs": [
    {
     "name": "stdout",
     "output_type": "stream",
     "text": [
      "자동 들여쓰기 출력 <html>\n",
      " <body>\n",
      "  <h1>\n",
      "   body의 h1태크 사용\n",
      "  </h1>\n",
      "  <p>\n",
      "   문단 나누는 p태그사용1\n",
      "  </p>\n",
      "  <p>\n",
      "   문단 나누는 p태그사용2\n",
      "  </p>\n",
      " </body>\n",
      "</html>\n",
      "\n"
     ]
    }
   ],
   "source": [
    "print('자동 들여쓰기 출력', soup.prettify()) # prettify 들여쓰기 출력"
   ]
  },
  {
   "cell_type": "code",
   "execution_count": 5,
   "metadata": {},
   "outputs": [
    {
     "name": "stdout",
     "output_type": "stream",
     "text": [
      "h1 type :  <class 'bs4.element.Tag'>\n",
      "h1 <h1>body의 h1태크 사용</h1>\n",
      "h1 string:  body의 h1태크 사용\n"
     ]
    }
   ],
   "source": [
    "h1 = soup.html.body.h1\n",
    "print('h1 type : ', type(h1))\n",
    "\n",
    "# type이 element이기 때문에 태그와 함께 같이 출력\n",
    "print('h1',h1)\n",
    "\n",
    "# 태그 사이의 내용만 출력하고 싶다면 string을 사용\n",
    "print('h1 string: ', h1.string)"
   ]
  },
  {
   "cell_type": "markdown",
   "metadata": {},
   "source": [
    "p태그의 경우는 두 개가 있다. 따라서 메소드를 이용해 이동하여 가져옴<br>\n",
    "- .next_sibling : 현재 태그의 다음을 가져옴\n",
    "- .previous_sibling : 현재 태그 이전 태그를 가져옴"
   ]
  },
  {
   "cell_type": "markdown",
   "metadata": {},
   "source": [
    "### 세부정보를 가져올 경우 사용할 수 있겠다."
   ]
  },
  {
   "cell_type": "code",
   "execution_count": 6,
   "metadata": {},
   "outputs": [
    {
     "name": "stdout",
     "output_type": "stream",
     "text": [
      "p1 :  <p>문단 나누는 p태그사용1</p>\n",
      "p1_changeLine :  \n",
      "\n",
      "p2 :  <p>문단 나누는 p태그사용2</p>\n"
     ]
    }
   ],
   "source": [
    "p1 = soup.html.body.p\n",
    "print('p1 : ',p1)\n",
    "\n",
    "# p1_changeLine의 경우 p1.next_sibling의 결과\n",
    "# 사실 p1내에서 엔터는 '\\n'을 포함한다. 따라서 띄워쓰기가 출력되는 것\n",
    "p1_changeLine = p1.next_sibling\n",
    "print('p1_changeLine : ',p1_changeLine)\n",
    "\n",
    "# 따라서 next_sibling를 두 번 적어주어야 한다.\n",
    "p2 = p1.next_sibling.next_sibling\n",
    "print('p2 : ',p2)"
   ]
  },
  {
   "cell_type": "code",
   "execution_count": 7,
   "metadata": {},
   "outputs": [
    {
     "name": "stdout",
     "output_type": "stream",
     "text": [
      "p3 <h1>body의 h1태크 사용</h1>\n"
     ]
    }
   ],
   "source": [
    "p3 = p1.previous_sibling.previous_sibling\n",
    "print('p3',p3)"
   ]
  },
  {
   "cell_type": "code",
   "execution_count": 8,
   "metadata": {},
   "outputs": [
    {
     "name": "stdout",
     "output_type": "stream",
     "text": [
      "h1 : body의 h1태크 사용\n",
      "p1  : 문단 나누는 p태그사용1\n",
      "p2  : 문단 나누는 p태그사용2\n"
     ]
    }
   ],
   "source": [
    "print(\"h1 : \" + h1.string)\n",
    "print(\"p1  : \" + p1.string)\n",
    "print(\"p2  : \" + p2.string)"
   ]
  }
 ],
 "metadata": {
  "kernelspec": {
   "display_name": "Python 3",
   "language": "python",
   "name": "python3"
  },
  "language_info": {
   "codemirror_mode": {
    "name": "ipython",
    "version": 3
   },
   "file_extension": ".py",
   "mimetype": "text/x-python",
   "name": "python",
   "nbconvert_exporter": "python",
   "pygments_lexer": "ipython3",
   "version": "3.5.3"
  }
 },
 "nbformat": 4,
 "nbformat_minor": 2
}
