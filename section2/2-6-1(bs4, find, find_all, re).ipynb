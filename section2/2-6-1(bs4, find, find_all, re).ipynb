{
 "cells": [
  {
   "cell_type": "markdown",
   "metadata": {},
   "source": [
    "181216"
   ]
  },
  {
   "cell_type": "code",
   "execution_count": 1,
   "metadata": {
    "collapsed": true
   },
   "outputs": [],
   "source": [
    "from bs4 import BeautifulSoup\n",
    "import re # regex\n",
    "import sys\n",
    "import io"
   ]
  },
  {
   "cell_type": "code",
   "execution_count": 2,
   "metadata": {
    "collapsed": true
   },
   "outputs": [],
   "source": [
    "html = \"\"\"\n",
    "<html><body>\n",
    "  <ul>\n",
    "    <li id=\"naver\"><a href=\"http://www.naver.com\">naver</a></li>\n",
    "    <li><a href=\"http://www.daum.net\">daum</a></li>\n",
    "    <li><a href=\"https://www.google.com\">google</a></li>\n",
    "    <li><a href=\"https://www.tistory.com\">tistory</a></li>\n",
    "  </ul>\n",
    "</body></html>\n",
    "\"\"\""
   ]
  },
  {
   "cell_type": "markdown",
   "metadata": {},
   "source": [
    "re는 정규표현식 참고<br>\n",
    "http://pythonstudy.xyz/python/article/401-%EC%A0%95%EA%B7%9C-%ED%91%9C%ED%98%84%EC%8B%9D-Regex\n"
   ]
  },
  {
   "cell_type": "code",
   "execution_count": 3,
   "metadata": {},
   "outputs": [
    {
     "name": "stdout",
     "output_type": "stream",
     "text": [
      "id:naver >> naver\n"
     ]
    }
   ],
   "source": [
    "soup = BeautifulSoup(html, \"html.parser\")\n",
    "naver = soup.find(id=\"naver\")\n",
    "print(\"id:naver >> \" + naver.string)"
   ]
  },
  {
   "cell_type": "markdown",
   "metadata": {},
   "source": [
    "**href가 'com'을 포함한 것을 다 찾아와 리스트에 담음**"
   ]
  },
  {
   "cell_type": "code",
   "execution_count": 4,
   "metadata": {},
   "outputs": [
    {
     "name": "stdout",
     "output_type": "stream",
     "text": [
      "<a href=\"http://www.naver.com\">naver</a>\n",
      "naver\n",
      "http://www.naver.com\n",
      "\n",
      "<a href=\"https://www.google.com\">google</a>\n",
      "google\n",
      "https://www.google.com\n",
      "\n",
      "<a href=\"https://www.tistory.com\">tistory</a>\n",
      "tistory\n",
      "https://www.tistory.com\n",
      "\n"
     ]
    }
   ],
   "source": [
    "li = soup.find_all(href=re.compile(r\"com\")) # com문자가 포함된\n",
    "\n",
    "for e in li:\n",
    "    print(e)\n",
    "    print(e.string)  \n",
    "    print(e.attrs['href'])\n",
    "    print('')"
   ]
  },
  {
   "cell_type": "markdown",
   "metadata": {},
   "source": [
    "**href가 'https://' 로 시작하는 것을 다 찾아와 리스트에 담음**"
   ]
  },
  {
   "cell_type": "code",
   "execution_count": 5,
   "metadata": {},
   "outputs": [
    {
     "name": "stdout",
     "output_type": "stream",
     "text": [
      "<a href=\"https://www.google.com\">google</a>\n",
      "google\n",
      "https://www.google.com\n",
      "\n",
      "<a href=\"https://www.tistory.com\">tistory</a>\n",
      "tistory\n",
      "https://www.tistory.com\n",
      "\n"
     ]
    }
   ],
   "source": [
    "li = soup.find_all(href=re.compile(r\"^https://\")) # 시작은 https로 한다\n",
    "\n",
    "for e in li:\n",
    "    print(e)\n",
    "    print(e.string)  \n",
    "    print(e.attrs['href'])\n",
    "    print('')"
   ]
  }
 ],
 "metadata": {
  "kernelspec": {
   "display_name": "Python 3",
   "language": "python",
   "name": "python3"
  },
  "language_info": {
   "codemirror_mode": {
    "name": "ipython",
    "version": 3
   },
   "file_extension": ".py",
   "mimetype": "text/x-python",
   "name": "python",
   "nbconvert_exporter": "python",
   "pygments_lexer": "ipython3",
   "version": "3.5.5"
  }
 },
 "nbformat": 4,
 "nbformat_minor": 2
}
