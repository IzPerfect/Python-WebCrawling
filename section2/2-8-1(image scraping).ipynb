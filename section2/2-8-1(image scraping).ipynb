{
 "cells": [
  {
   "cell_type": "markdown",
   "metadata": {},
   "source": [
    "181218"
   ]
  },
  {
   "cell_type": "markdown",
   "metadata": {},
   "source": [
    "### 네이버에서 '사자'라고 검색하여 이미지 전체 다운로드 및 저장하기"
   ]
  },
  {
   "cell_type": "code",
   "execution_count": 1,
   "metadata": {
    "collapsed": true
   },
   "outputs": [],
   "source": [
    "from bs4 import BeautifulSoup\n",
    "import urllib.request as req\n",
    "import urllib.parse as rep\n",
    "import sys\n",
    "import io\n",
    "import os"
   ]
  },
  {
   "cell_type": "markdown",
   "metadata": {},
   "source": [
    "한글 부분은 url 형식에 맞게 변환을 해주어야한다. 따라서 urllib.parse를 이용해 변환"
   ]
  },
  {
   "cell_type": "code",
   "execution_count": 2,
   "metadata": {},
   "outputs": [
    {
     "name": "stdout",
     "output_type": "stream",
     "text": [
      "https://search.naver.com/search.naver?where=image&query=%EC%82%AC%EC%9E%90\n"
     ]
    }
   ],
   "source": [
    "base = \"https://search.naver.com/search.naver?where=image&query=\"\n",
    "quote = rep.quote_plus(\"사자\")\n",
    "url = base + quote\n",
    "\n",
    "print(url)"
   ]
  },
  {
   "cell_type": "code",
   "execution_count": 3,
   "metadata": {
    "collapsed": true
   },
   "outputs": [],
   "source": [
    "res = req.urlopen(url)\n",
    "\n",
    "cwd = os.getcwd() # 현재 경로\n",
    "savePath = cwd + '/download_img_file/' # 다운로드 받을 경로\n",
    "if not os.path.exists(savePath): # 만약 입력한 경로가 없다면 만든 후 저장\n",
    "    os.makedirs(savePath)"
   ]
  },
  {
   "cell_type": "code",
   "execution_count": 4,
   "metadata": {},
   "outputs": [
    {
     "name": "stdout",
     "output_type": "stream",
     "text": [
      "<img alt=\"방주 | 카페\" class=\"_img\" data-height=\"1684\" data-source=\"https://search.pstatic.net/common/?src=http%3A%2F%2Fcafefiles.naver.net%2F20130608_163%2Fduran011_13706591894056cooE_JPEG%2Fpicspeed_-1353794283.jpg&amp;type=b400\" data-width=\"2480\" onerror=\"var we=$Element(this); we.addClass('bg_nimg'); we.attr('alt','이미지준비중'); we.attr('src','data:image/gif;base64,R0lGODlhAQABAIAAAAAAAP///yH5BAEAAAAALAAAAAABAAEAAAIBRAA7');\" src=\"data:image/gif;base64,R0lGODlhAQABAIAAAAAAAP///yH5BAEAAAAALAAAAAABAAEAAAIBRAA7\"/>\n"
     ]
    }
   ],
   "source": [
    "soup = BeautifulSoup(res, \"html.parser\")\n",
    "\n",
    "li_list = soup.select(\"div.img_area._item > a.thumb._thumb > img\")\n",
    "print(li_list[0])"
   ]
  },
  {
   "cell_type": "markdown",
   "metadata": {},
   "source": [
    "뭔가 인터넷에서 직접 \"div.img_area._item > a.thumb._thumb > img\"이 경로로 접근한 결과와 다른 값을 출력한다. \n",
    "Browser가 아닌 직접 request를 하였기 때문에 조금 다른 값을 출력하는데 유의해야할 부분은 페이지 소스 검사를 했을 때는\n",
    "src부분에 이미지의 주소가 있었지만 위에서는 ['data-source]라는 부분에 정의 되어 있다."
   ]
  },
  {
   "cell_type": "code",
   "execution_count": 5,
   "metadata": {},
   "outputs": [
    {
     "name": "stdout",
     "output_type": "stream",
     "text": [
      "data:image/gif;base64,R0lGODlhAQABAIAAAAAAAP///yH5BAEAAAAALAAAAAABAAEAAAIBRAA7\n",
      "https://search.pstatic.net/common/?src=http%3A%2F%2Fcafefiles.naver.net%2F20130608_163%2Fduran011_13706591894056cooE_JPEG%2Fpicspeed_-1353794283.jpg&type=b400\n"
     ]
    }
   ],
   "source": [
    "print(li_list[0]['src'])\n",
    "print(li_list[0]['data-source'])"
   ]
  },
  {
   "cell_type": "markdown",
   "metadata": {},
   "source": [
    "따라서 직접 request할 경우 한 번 확인해본 뒤에 사용하는 것이 좋다.<br>\n",
    "밑에 나타낸 것과 같이 'data-source'를 사용하여 다운로드"
   ]
  },
  {
   "cell_type": "code",
   "execution_count": 6,
   "metadata": {
    "scrolled": true
   },
   "outputs": [],
   "source": [
    "for i, div in enumerate(li_list,1): # enumerate에서 1은 1부터 시작\n",
    "  #print(\"div =\", div['data-source'])\n",
    "  fullfilename = os.path.join(savePath, savePath+str(i)+'.jpg')\n",
    "  #print(fullfilename)\n",
    "  req.urlretrieve(div['data-source'],fullfilename)\n",
    "  #print(i)"
   ]
  }
 ],
 "metadata": {
  "kernelspec": {
   "display_name": "Python 3",
   "language": "python",
   "name": "python3"
  },
  "language_info": {
   "codemirror_mode": {
    "name": "ipython",
    "version": 3
   },
   "file_extension": ".py",
   "mimetype": "text/x-python",
   "name": "python",
   "nbconvert_exporter": "python",
   "pygments_lexer": "ipython3",
   "version": "3.5.3"
  }
 },
 "nbformat": 4,
 "nbformat_minor": 2
}
