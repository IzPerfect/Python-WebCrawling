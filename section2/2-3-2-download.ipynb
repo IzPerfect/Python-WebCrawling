{
 "cells": [
  {
   "cell_type": "markdown",
   "metadata": {},
   "source": [
    "181215"
   ]
  },
  {
   "cell_type": "code",
   "execution_count": 1,
   "metadata": {
    "collapsed": true
   },
   "outputs": [],
   "source": [
    "import urllib.request\n",
    "import urllib.parse\n",
    "import sys\n",
    "import io"
   ]
  },
  {
   "cell_type": "code",
   "execution_count": 2,
   "metadata": {},
   "outputs": [
    {
     "name": "stdout",
     "output_type": "stream",
     "text": [
      "Before :  {'format': 'json'}\n",
      "After :  format=json\n"
     ]
    }
   ],
   "source": [
    "API = \"https://api.ipify.org\" # 해당 사이트에 요청\n",
    "\n",
    "values = {\n",
    "    'format': 'json'\n",
    "}\n",
    "print('Before : ',values)\n",
    "\n",
    "# urlencoder를 통해 요청에 맞게 변환\n",
    "params = urllib.parse.urlencode(values)\n",
    "print('After : ',params)"
   ]
  },
  {
   "cell_type": "code",
   "execution_count": 3,
   "metadata": {},
   "outputs": [
    {
     "name": "stdout",
     "output_type": "stream",
     "text": [
      "요청 url :  https://api.ipify.org?format=json\n"
     ]
    }
   ],
   "source": [
    "#요청 URL 생성\n",
    "url = API + \"?\" + params\n",
    "print(\"요청 url : \", url)"
   ]
  },
  {
   "cell_type": "code",
   "execution_count": null,
   "metadata": {
    "collapsed": true
   },
   "outputs": [],
   "source": [
    "data = urllib.request.urlopen(url).read() # 해당 url로부터 오는 것 읽기\n",
    "text = data.decode(\"utf-8\") # 변환\n",
    "print('출력 : ',text)"
   ]
  },
  {
   "cell_type": "markdown",
   "metadata": {},
   "source": [
    "출력 : {\"ip\":\"PC ip\"}"
   ]
  }
 ],
 "metadata": {
  "kernelspec": {
   "display_name": "Python 3",
   "language": "python",
   "name": "python3"
  },
  "language_info": {
   "codemirror_mode": {
    "name": "ipython",
    "version": 3
   },
   "file_extension": ".py",
   "mimetype": "text/x-python",
   "name": "python",
   "nbconvert_exporter": "python",
   "pygments_lexer": "ipython3",
   "version": "3.5.3"
  }
 },
 "nbformat": 4,
 "nbformat_minor": 2
}
