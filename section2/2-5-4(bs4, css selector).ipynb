{
 "cells": [
  {
   "cell_type": "markdown",
   "metadata": {},
   "source": [
    "181215\n",
    "### CSS 선택자 *실제로 가장 많이 쓰는 방법* 중요!"
   ]
  },
  {
   "cell_type": "markdown",
   "metadata": {},
   "source": [
    "왜?????<br>\n",
    "정확하게 원하는 것만 선택하여 파싱이 가능"
   ]
  },
  {
   "cell_type": "code",
   "execution_count": 1,
   "metadata": {
    "collapsed": true
   },
   "outputs": [],
   "source": [
    "from bs4 import BeautifulSoup\n",
    "import sys\n",
    "import io"
   ]
  },
  {
   "cell_type": "code",
   "execution_count": 2,
   "metadata": {
    "collapsed": true
   },
   "outputs": [],
   "source": [
    "html = \"\"\"\n",
    "<html><body>\n",
    "<div id=\"main\">\n",
    "  <h1>강의목록</h1>\n",
    "  <ul class=\"lecs\">\n",
    "    <li>Java 초고수 되기</li>\n",
    "    <li>파이썬 기초 프로그래밍</li>\n",
    "    <li>파이썬 머신러닝 프로그래밍</li>\n",
    "    <li>안드로이드 블루투스 프로그래밍</li>\n",
    "  </ul>\n",
    "</div>\n",
    "</body></html>\n",
    "\"\"\""
   ]
  },
  {
   "cell_type": "code",
   "execution_count": 3,
   "metadata": {},
   "outputs": [
    {
     "name": "stdout",
     "output_type": "stream",
     "text": [
      "prettify <html>\n",
      " <body>\n",
      "  <div id=\"main\">\n",
      "   <h1>\n",
      "    강의목록\n",
      "   </h1>\n",
      "   <ul class=\"lecs\">\n",
      "    <li>\n",
      "     Java 초고수 되기\n",
      "    </li>\n",
      "    <li>\n",
      "     파이썬 기초 프로그래밍\n",
      "    </li>\n",
      "    <li>\n",
      "     파이썬 머신러닝 프로그래밍\n",
      "    </li>\n",
      "    <li>\n",
      "     안드로이드 블루투스 프로그래밍\n",
      "    </li>\n",
      "   </ul>\n",
      "  </div>\n",
      " </body>\n",
      "</html>\n",
      "\n"
     ]
    }
   ],
   "source": [
    "soup = BeautifulSoup(html, 'html.parser')\n",
    "print('prettify',soup.prettify())"
   ]
  },
  {
   "cell_type": "markdown",
   "metadata": {},
   "source": [
    "id표시에는 ''#'을 사용한다 따라서 \"div#main\"은 div에 main이라는 id라는 의미"
   ]
  },
  {
   "cell_type": "code",
   "execution_count": 4,
   "metadata": {},
   "outputs": [
    {
     "name": "stdout",
     "output_type": "stream",
     "text": [
      "[<h1>강의목록</h1>]\n"
     ]
    }
   ],
   "source": [
    "h1 = soup.select(\"div#main > h1\")\n",
    "print(h1)"
   ]
  },
  {
   "cell_type": "markdown",
   "metadata": {},
   "source": [
    "h1을 select한 변수의 type은 list이기 때문에 string을 사용할 수 없다."
   ]
  },
  {
   "cell_type": "code",
   "execution_count": 5,
   "metadata": {},
   "outputs": [
    {
     "name": "stdout",
     "output_type": "stream",
     "text": [
      "에러 내용\n",
      " 'list' object has no attribute 'string'\n"
     ]
    }
   ],
   "source": [
    "try:\n",
    "    print(h1.string)\n",
    "except Exception as ex: # 에러 종류\n",
    "    print('에러 내용\\n', ex) # ex는 발생한 에러의 이름을 받아오는 변수\n",
    "    # 에러가 발생 했습니다 list index out of range"
   ]
  },
  {
   "cell_type": "markdown",
   "metadata": {},
   "source": [
    "따라서 밑에 나타난 것 같이 출력은 가능"
   ]
  },
  {
   "cell_type": "code",
   "execution_count": 6,
   "metadata": {},
   "outputs": [
    {
     "name": "stdout",
     "output_type": "stream",
     "text": [
      "강의목록\n"
     ]
    }
   ],
   "source": [
    "print(h1[0].string)"
   ]
  },
  {
   "cell_type": "markdown",
   "metadata": {},
   "source": [
    "직접 select_one을 사용하여 출력"
   ]
  },
  {
   "cell_type": "code",
   "execution_count": 7,
   "metadata": {},
   "outputs": [
    {
     "name": "stdout",
     "output_type": "stream",
     "text": [
      "h1 = 강의목록\n"
     ]
    }
   ],
   "source": [
    "h1 = soup.select_one(\"div#main > h1\").string\n",
    "print(\"h1 =\", h1)"
   ]
  },
  {
   "cell_type": "markdown",
   "metadata": {},
   "source": [
    "class는 '.'으로 구분"
   ]
  },
  {
   "cell_type": "code",
   "execution_count": 8,
   "metadata": {},
   "outputs": [
    {
     "name": "stdout",
     "output_type": "stream",
     "text": [
      "li :  Java 초고수 되기\n",
      "li :  파이썬 기초 프로그래밍\n",
      "li :  파이썬 머신러닝 프로그래밍\n",
      "li :  안드로이드 블루투스 프로그래밍\n"
     ]
    }
   ],
   "source": [
    "li_list = soup.select(\"div#main > ul.lecs > li\")\n",
    "for li in li_list:\n",
    "  print(\"li : \", li.string)"
   ]
  }
 ],
 "metadata": {
  "kernelspec": {
   "display_name": "Python 3",
   "language": "python",
   "name": "python3"
  },
  "language_info": {
   "codemirror_mode": {
    "name": "ipython",
    "version": 3
   },
   "file_extension": ".py",
   "mimetype": "text/x-python",
   "name": "python",
   "nbconvert_exporter": "python",
   "pygments_lexer": "ipython3",
   "version": "3.5.3"
  }
 },
 "nbformat": 4,
 "nbformat_minor": 2
}
