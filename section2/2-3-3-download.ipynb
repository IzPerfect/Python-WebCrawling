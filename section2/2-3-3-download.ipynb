{
 "cells": [
  {
   "cell_type": "markdown",
   "metadata": {},
   "source": [
    "181215"
   ]
  },
  {
   "cell_type": "code",
   "execution_count": 1,
   "metadata": {
    "collapsed": true
   },
   "outputs": [],
   "source": [
    "import urllib.request\n",
    "import urllib.parse\n",
    "import sys\n",
    "import io"
   ]
  },
  {
   "cell_type": "markdown",
   "metadata": {},
   "source": [
    "행정안전부의 새소식 가져오기"
   ]
  },
  {
   "cell_type": "code",
   "execution_count": 2,
   "metadata": {},
   "outputs": [
    {
     "name": "stdout",
     "output_type": "stream",
     "text": [
      "Before {'ctxCd': '1001'}\n",
      "After :  ctxCd=1001\n"
     ]
    }
   ],
   "source": [
    "# 행정안전부\n",
    "API = \"http://www.mois.go.kr/gpms/view/jsp/rss/rss.jsp\"\n",
    "\n",
    "values = {\n",
    "    'ctxCd': '1001'\n",
    "}\n",
    "params = urllib.parse.urlencode(values)\n",
    "print('Before',values)\n",
    "params = urllib.parse.urlencode(values)\n",
    "print('After : ',params)"
   ]
  },
  {
   "cell_type": "code",
   "execution_count": 3,
   "metadata": {},
   "outputs": [
    {
     "name": "stdout",
     "output_type": "stream",
     "text": [
      "요청 url= http://www.mois.go.kr/gpms/view/jsp/rss/rss.jsp?ctxCd=1001\n",
      "출력\n",
      " <?xml version=\"1.0\" encoding=\"UTF-8\" ?>\n",
      "<rss version=\"2.0\"\n",
      "    xmlns:rdf=\"http://www.w3.org/1999/02/\n"
     ]
    }
   ],
   "source": [
    "url = API + \"?\" + params\n",
    "print(\"요청 url=\", url)\n",
    "\n",
    "\n",
    "# 100까지만 read해옴\n",
    "data = urllib.request.urlopen(url).read(100)\n",
    "text = data.decode(\"utf-8\")\n",
    "print('출력\\n',text)"
   ]
  }
 ],
 "metadata": {
  "kernelspec": {
   "display_name": "Python 3",
   "language": "python",
   "name": "python3"
  },
  "language_info": {
   "codemirror_mode": {
    "name": "ipython",
    "version": 3
   },
   "file_extension": ".py",
   "mimetype": "text/x-python",
   "name": "python",
   "nbconvert_exporter": "python",
   "pygments_lexer": "ipython3",
   "version": "3.5.5"
  }
 },
 "nbformat": 4,
 "nbformat_minor": 2
}
