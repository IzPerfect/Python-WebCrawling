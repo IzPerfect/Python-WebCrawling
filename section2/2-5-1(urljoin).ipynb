{
 "cells": [
  {
   "cell_type": "markdown",
   "metadata": {},
   "source": [
    "181215\n",
    "### urljoin"
   ]
  },
  {
   "cell_type": "code",
   "execution_count": 1,
   "metadata": {
    "collapsed": true
   },
   "outputs": [],
   "source": [
    "from urllib.parse import urljoin\n",
    "baseUrl = \"http://test.com/html/a.html\""
   ]
  },
  {
   "cell_type": "markdown",
   "metadata": {},
   "source": [
    "urljoin으로 절대경로인 url 뒤에 파일 정보를 치환<br>\n",
    "urljoin(기본 url, 치환시킬 파일)"
   ]
  },
  {
   "cell_type": "code",
   "execution_count": 2,
   "metadata": {},
   "outputs": [
    {
     "name": "stdout",
     "output_type": "stream",
     "text": [
      "http://test.com/html/b.html\n",
      "http://test.com/html/sub/c.html\n",
      "http://test.com/index.html\n",
      "http://test.com/img/img.png\n",
      "http://test.com/css/img.css\n"
     ]
    }
   ],
   "source": [
    "print( urljoin(baseUrl, \"b.html\") ) \n",
    "print( urljoin(baseUrl, \"sub/c.html\") )\n",
    "print( urljoin(baseUrl, \"../index.html\") )\n",
    "print( urljoin(baseUrl, \"../img/img.png\") )\n",
    "print( urljoin(baseUrl, \"../css/img.css\") )"
   ]
  }
 ],
 "metadata": {
  "kernelspec": {
   "display_name": "Python 3",
   "language": "python",
   "name": "python3"
  },
  "language_info": {
   "codemirror_mode": {
    "name": "ipython",
    "version": 3
   },
   "file_extension": ".py",
   "mimetype": "text/x-python",
   "name": "python",
   "nbconvert_exporter": "python",
   "pygments_lexer": "ipython3",
   "version": "3.5.3"
  }
 },
 "nbformat": 4,
 "nbformat_minor": 2
}
