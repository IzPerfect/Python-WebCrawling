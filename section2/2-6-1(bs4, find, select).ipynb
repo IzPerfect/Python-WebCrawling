{
 "cells": [
  {
   "cell_type": "markdown",
   "metadata": {},
   "source": [
    "181216"
   ]
  },
  {
   "cell_type": "code",
   "execution_count": 1,
   "metadata": {},
   "outputs": [],
   "source": [
    "from bs4 import BeautifulSoup\n",
    "import sys\n",
    "import io"
   ]
  },
  {
   "cell_type": "code",
   "execution_count": 2,
   "metadata": {},
   "outputs": [
    {
     "name": "stdout",
     "output_type": "stream",
     "text": [
      "<html>\n",
      " <body>\n",
      "  <div id=\"foods\">\n",
      "   <h1>\n",
      "    안주 및 주류\n",
      "   </h1>\n",
      "   <ul id=\"fd-list\">\n",
      "    <li class=\"food hot\" data-lo=\"ko\">\n",
      "     닭도리탕\n",
      "    </li>\n",
      "    <li class=\"food\" data-lo=\"jp\">\n",
      "     돈까스\n",
      "    </li>\n",
      "    <li class=\"food hot\" data-lo=\"ko\">\n",
      "     삼겹살\n",
      "    </li>\n",
      "    <li class=\"food\" data-lo=\"us\">\n",
      "     스테이크\n",
      "    </li>\n",
      "   </ul>\n",
      "   <ul id=\"ac-list\">\n",
      "    <li class=\"alcohol\" data-lo=\"ko\">\n",
      "     소주\n",
      "    </li>\n",
      "    <li class=\"alcohol\" data-lo=\"us\">\n",
      "     맥주\n",
      "    </li>\n",
      "    <li class=\"alcohol\" data-lo=\"ko\">\n",
      "     막걸리\n",
      "    </li>\n",
      "    <li class=\"alcohol high\" data-lo=\"cn\">\n",
      "     양주\n",
      "    </li>\n",
      "    <li class=\"alcohol\" data-lo=\"ko\">\n",
      "     동동주\n",
      "    </li>\n",
      "   </ul>\n",
      "  </div>\n",
      "  <body>\n",
      "  </body>\n",
      " </body>\n",
      "</html>\n",
      "\n"
     ]
    }
   ],
   "source": [
    "fp = open(\"food-list.html\", encoding=\"utf-8\") # html의 내용이 인스턴스화\n",
    "soup = BeautifulSoup(fp, \"html.parser\")\n",
    "print(soup.prettify())"
   ]
  },
  {
   "cell_type": "markdown",
   "metadata": {},
   "source": [
    "### select_one 조건에 맞는 한 개에 접근"
   ]
  },
  {
   "cell_type": "code",
   "execution_count": 3,
   "metadata": {},
   "outputs": [
    {
     "name": "stdout",
     "output_type": "stream",
     "text": [
      "1 양주\n"
     ]
    }
   ],
   "source": [
    "# nth-of-type는 순서를 사용해서 가지고 올 수 있음\n",
    "print(\"1\",soup.select_one(\"li:nth-of-type(8)\").string)"
   ]
  },
  {
   "cell_type": "markdown",
   "metadata": {},
   "source": [
    "'>'는 자식 선택자"
   ]
  },
  {
   "cell_type": "code",
   "execution_count": 4,
   "metadata": {},
   "outputs": [
    {
     "name": "stdout",
     "output_type": "stream",
     "text": [
      "2 스테이크\n"
     ]
    }
   ],
   "source": [
    "# id가 fd-list중에 \n",
    "print(\"2\",soup.select_one(\"#fd-list > li:nth-of-type(4)\").string)"
   ]
  },
  {
   "cell_type": "code",
   "execution_count": 5,
   "metadata": {},
   "outputs": [
    {
     "name": "stdout",
     "output_type": "stream",
     "text": [
      "3 소주\n",
      "4 막걸리\n"
     ]
    }
   ],
   "source": [
    "# select사용 => 리스트 형태로 저장됨\n",
    "print(\"3\",soup.select(\"#ac-list > li[data-lo='ko']\")[0].string) \n",
    "print(\"4\",soup.select(\"#ac-list > li[data-lo='ko']\")[1].string) "
   ]
  },
  {
   "cell_type": "code",
   "execution_count": 6,
   "metadata": {},
   "outputs": [
    {
     "name": "stdout",
     "output_type": "stream",
     "text": [
      "5 삼겹살\n"
     ]
    }
   ],
   "source": [
    "# 선택자를 활용할 경우 '.'을 찍어줘야 한다\n",
    "print(\"5\",soup.select(\"#fd-list > li.food.hot\")[1].string)"
   ]
  },
  {
   "cell_type": "code",
   "execution_count": 7,
   "metadata": {},
   "outputs": [
    {
     "name": "stdout",
     "output_type": "stream",
     "text": [
      "6 돈까스\n",
      "7 소주\n",
      "data-lo == us 스테이크\n",
      "data-lo == us 맥주\n"
     ]
    }
   ],
   "source": [
    "cond1 = {\"data-lo\":\"jp\", \"class\":\"food\"}\n",
    "cond2 = {\"data-lo\":\"ko\", \"class\":\"alcohol\"}\n",
    "\n",
    "print(\"6\",soup.find(\"li\", cond1).string)\n",
    "print(\"7\",soup.find(id=\"ac-list\")\n",
    "           .find(\"li\", cond2).string)\n",
    "\n",
    "for ac in soup.find_all(\"li\"):\n",
    "    if ac['data-lo'] == 'us':\n",
    "        print('data-lo == us',ac.string)"
   ]
  }
 ],
 "metadata": {
  "kernelspec": {
   "display_name": "Python 3",
   "language": "python",
   "name": "python3"
  },
  "language_info": {
   "codemirror_mode": {
    "name": "ipython",
    "version": 3
   },
   "file_extension": ".py",
   "mimetype": "text/x-python",
   "name": "python",
   "nbconvert_exporter": "python",
   "pygments_lexer": "ipython3",
   "version": "3.5.5"
  }
 },
 "nbformat": 4,
 "nbformat_minor": 2
}
