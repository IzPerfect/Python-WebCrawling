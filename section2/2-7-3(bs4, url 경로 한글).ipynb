{
 "cells": [
  {
   "cell_type": "markdown",
   "metadata": {},
   "source": [
    "181216"
   ]
  },
  {
   "cell_type": "code",
   "execution_count": 1,
   "metadata": {
    "collapsed": true
   },
   "outputs": [],
   "source": [
    "from bs4 import BeautifulSoup\n",
    "import urllib.request as req\n",
    "import urllib.parse as rep\n",
    "import sys\n",
    "import io"
   ]
  },
  {
   "cell_type": "markdown",
   "metadata": {},
   "source": [
    "부트스트랩 형식으로 이루어져 있는 리스트 가지고 오기"
   ]
  },
  {
   "cell_type": "code",
   "execution_count": 2,
   "metadata": {
    "collapsed": true
   },
   "outputs": [],
   "source": [
    "base = \"https://www.inflearn.com/\""
   ]
  },
  {
   "cell_type": "markdown",
   "metadata": {},
   "source": [
    "url경로에서 한글 같은 경우 unicode로 바꿔주어야한다. 아니면 error"
   ]
  },
  {
   "cell_type": "code",
   "execution_count": 3,
   "metadata": {},
   "outputs": [
    {
     "name": "stdout",
     "output_type": "stream",
     "text": [
      "추천-강좌 :  %EC%B6%94%EC%B2%9C-%EA%B0%95%EC%A2%8C\n"
     ]
    }
   ],
   "source": [
    "quote = rep.quote_plus(\"추천-강좌\")\n",
    "print('추천-강좌 : ',quote)"
   ]
  },
  {
   "cell_type": "code",
   "execution_count": 4,
   "metadata": {
    "collapsed": true
   },
   "outputs": [],
   "source": [
    "url = base + quote\n",
    "res = req.urlopen(url).read()\n",
    "soup = BeautifulSoup(res, \"html.parser\")"
   ]
  },
  {
   "cell_type": "code",
   "execution_count": 5,
   "metadata": {},
   "outputs": [
    {
     "name": "stdout",
     "output_type": "stream",
     "text": [
      "<class 'bs4.element.Tag'>\n"
     ]
    }
   ],
   "source": [
    "recommand = soup.select(\"ul.slides\")[0]\n",
    "print(type(recommand))"
   ]
  },
  {
   "cell_type": "code",
   "execution_count": 6,
   "metadata": {},
   "outputs": [
    {
     "name": "stdout",
     "output_type": "stream",
     "text": [
      "1 함수형 프로그래밍과 javascript ES6+\n",
      "2 트렐로 개발을 통한 Vuejs, Vuex, Vue-Router 프론트엔드 실전 기술\n",
      "3 유니티 강좌 [쯔꾸르풍 게임 제작하기]\n",
      "4 개념을 제대로 알아보는 ES6+ Flow 중급\n",
      "5 Bootstrap 4 & 3 Framework Tutorial\n",
      "6 Electron과 NodeJS 그리고 Socket.io를 이용한 채팅 어플리케이션 개발\n",
      "7 EOSJS를 이용한 EOS 심플 월렛 만들기\n",
      "8 iOS AutoLayout 완벽 가이드 - 실무 프로젝트를 위한 실전강의\n",
      "9 홍정모의 따라하며 배우는 C++\n",
      "10 쉽고 빠르게 끝내는 GO언어 프로그래밍 핵심 기초 입문 과정\n",
      "11 PWA 시작하기 - 웹 기술로 앱을 만들자\n",
      "12 자바스크립트로 알아보는 함수형 프로그래밍\n"
     ]
    }
   ],
   "source": [
    "# enumerate(recommand,1), 여기서 1은 1부터 시작이라는 의미\n",
    "for i,e in enumerate(recommand,1):\n",
    "\n",
    "    print(i,e.select_one(\"h4.block_title > a\").string)"
   ]
  }
 ],
 "metadata": {
  "kernelspec": {
   "display_name": "Python 3",
   "language": "python",
   "name": "python3"
  },
  "language_info": {
   "codemirror_mode": {
    "name": "ipython",
    "version": 3
   },
   "file_extension": ".py",
   "mimetype": "text/x-python",
   "name": "python",
   "nbconvert_exporter": "python",
   "pygments_lexer": "ipython3",
   "version": "3.5.3"
  }
 },
 "nbformat": 4,
 "nbformat_minor": 2
}
