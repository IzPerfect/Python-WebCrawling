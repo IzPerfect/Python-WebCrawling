{
 "cells": [
  {
   "cell_type": "markdown",
   "metadata": {},
   "source": [
    "181216<br>\n",
    "selector 함수, 람다를 응용\n"
   ]
  },
  {
   "cell_type": "code",
   "execution_count": 1,
   "metadata": {
    "collapsed": true
   },
   "outputs": [],
   "source": [
    "from bs4 import BeautifulSoup\n",
    "import sys\n",
    "import io\n",
    "\n",
    "fp = open(\"cars.html\", encoding=\"utf-8\")\n",
    "soup = BeautifulSoup(fp, \"html.parser\")"
   ]
  },
  {
   "cell_type": "code",
   "execution_count": 2,
   "metadata": {
    "collapsed": true
   },
   "outputs": [],
   "source": [
    "def car_func(selector):\n",
    "    print('car_func', soup.select_one(selector).string)"
   ]
  },
  {
   "cell_type": "code",
   "execution_count": 3,
   "metadata": {},
   "outputs": [
    {
     "name": "stdout",
     "output_type": "stream",
     "text": [
      "car_func Grandeur\n",
      "car_func Grandeur\n",
      "car_func Grandeur\n",
      "car_func Grandeur\n",
      "car_func Grandeur\n",
      "car_func Grandeur\n"
     ]
    }
   ],
   "source": [
    "car_func(\"li:nth-of-type(4)\")\n",
    "car_func(\"li#gr\")\n",
    "car_func(\"ul > li#gr\")\n",
    "car_func(\"#cars #gr\")\n",
    "car_func(\"#cars > #gr\")\n",
    "car_func(\"li[id='gr']\")"
   ]
  },
  {
   "cell_type": "markdown",
   "metadata": {},
   "source": [
    "lambda식"
   ]
  },
  {
   "cell_type": "code",
   "execution_count": 4,
   "metadata": {
    "collapsed": true
   },
   "outputs": [],
   "source": [
    "car_lambda = lambda selector : print('car_lambda', soup.select_one(selector).string)"
   ]
  },
  {
   "cell_type": "code",
   "execution_count": 5,
   "metadata": {},
   "outputs": [
    {
     "name": "stdout",
     "output_type": "stream",
     "text": [
      "car_lambda Grandeur\n",
      "car_lambda Grandeur\n",
      "car_lambda Grandeur\n",
      "car_lambda Grandeur\n",
      "car_lambda Grandeur\n",
      "car_lambda Grandeur\n"
     ]
    }
   ],
   "source": [
    "car_lambda(\"li:nth-of-type(4)\")\n",
    "car_lambda(\"li#gr\")\n",
    "car_lambda(\"ul > li#gr\")\n",
    "car_lambda(\"#cars #gr\")\n",
    "car_lambda(\"#cars > #gr\")\n",
    "car_lambda(\"li[id='gr']\")"
   ]
  }
 ],
 "metadata": {
  "kernelspec": {
   "display_name": "Python 3",
   "language": "python",
   "name": "python3"
  },
  "language_info": {
   "codemirror_mode": {
    "name": "ipython",
    "version": 3
   },
   "file_extension": ".py",
   "mimetype": "text/x-python",
   "name": "python",
   "nbconvert_exporter": "python",
   "pygments_lexer": "ipython3",
   "version": "3.5.3"
  }
 },
 "nbformat": 4,
 "nbformat_minor": 2
}
