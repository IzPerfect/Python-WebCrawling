{
 "cells": [
  {
   "cell_type": "code",
   "execution_count": 1,
   "metadata": {
    "collapsed": true
   },
   "outputs": [],
   "source": [
    "from bs4 import BeautifulSoup\n",
    "import urllib.request as req\n",
    "import sys\n",
    "import io"
   ]
  },
  {
   "cell_type": "code",
   "execution_count": 2,
   "metadata": {},
   "outputs": [
    {
     "name": "stdout",
     "output_type": "stream",
     "text": [
      "제주항공\n",
      "https://search.daum.net/search?w=tot&q=%EC%A0%9C%EC%A3%BC%ED%95%AD%EA%B3%B5&DA=ATG&rtmaxcoll=1TH\n",
      "대성고등학교\n",
      "https://search.daum.net/search?w=tot&q=%EB%8C%80%EC%84%B1%EA%B3%A0%EB%93%B1%ED%95%99%EA%B5%90&DA=ATG&rtmaxcoll=1TH\n",
      "남연우\n",
      "https://search.daum.net/search?w=tot&q=%EB%82%A8%EC%97%B0%EC%9A%B0&DA=ATG&rtmaxcoll=1TH\n",
      "함소원\n",
      "https://search.daum.net/search?w=tot&q=%ED%95%A8%EC%86%8C%EC%9B%90&DA=ATG&rtmaxcoll=1TH\n",
      "일산화탄소\n",
      "https://search.daum.net/search?w=tot&q=%EC%9D%BC%EC%82%B0%ED%99%94%ED%83%84%EC%86%8C&DA=ATG&rtmaxcoll=1TH\n",
      "강릉 펜션\n",
      "https://search.daum.net/search?w=tot&q=%EA%B0%95%EB%A6%89+%ED%8E%9C%EC%85%98&DA=ATG&rtmaxcoll=1TH\n",
      "이학재 의원\n",
      "https://search.daum.net/search?w=tot&q=%EC%9D%B4%ED%95%99%EC%9E%AC+%EC%9D%98%EC%9B%90&DA=ATG&rtmaxcoll=1TH\n",
      "조재범\n",
      "https://search.daum.net/search?w=tot&q=%EC%A1%B0%EC%9E%AC%EB%B2%94&DA=ATG&rtmaxcoll=1TH\n",
      "심석희\n",
      "https://search.daum.net/search?w=tot&q=%EC%8B%AC%EC%84%9D%ED%9D%AC&DA=ATG&rtmaxcoll=1TH\n",
      "신연희\n",
      "https://search.daum.net/search?w=tot&q=%EC%8B%A0%EC%97%B0%ED%9D%AC&DA=ATG&rtmaxcoll=1TH\n"
     ]
    }
   ],
   "source": [
    "url = \"https://www.daum.net/\"\n",
    "res = req.urlopen(url).read()\n",
    "soup = BeautifulSoup(res, \"html.parser\")\n",
    "\n",
    "# aria-hidden :  엘리먼트와 그 자손의 모든 것이 여전히 브라우저에 표시되지만 화면 판독기와 같은 접근성 도구에는 보이지 않음을 나타냅니다(https://code.i-harness.com/ko-kr/q/1daa7e0).\n",
    "top10 = soup.select(\"div.realtime_part > .list_hotissue.issue_row > li > div > div[aria-hidden='true'] > span.txt_issue a\")\n",
    "# 해당 실시간 검색어 top10을 가져옴\n",
    "\n",
    "for e in top10:\n",
    "    print(e.string)\n",
    "    print(e['href'])"
   ]
  }
 ],
 "metadata": {
  "kernelspec": {
   "display_name": "Python 3",
   "language": "python",
   "name": "python3"
  },
  "language_info": {
   "codemirror_mode": {
    "name": "ipython",
    "version": 3
   },
   "file_extension": ".py",
   "mimetype": "text/x-python",
   "name": "python",
   "nbconvert_exporter": "python",
   "pygments_lexer": "ipython3",
   "version": "3.5.3"
  }
 },
 "nbformat": 4,
 "nbformat_minor": 2
}
