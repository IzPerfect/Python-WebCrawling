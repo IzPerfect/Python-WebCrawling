{
 "cells": [
  {
   "cell_type": "markdown",
   "metadata": {},
   "source": [
    "181215"
   ]
  },
  {
   "cell_type": "code",
   "execution_count": 1,
   "metadata": {
    "collapsed": true
   },
   "outputs": [],
   "source": [
    "from bs4 import BeautifulSoup\n",
    "\n",
    "html = \"\"\"\n",
    "<html><body>\n",
    "  <ul>\n",
    "    <li><a href=\"http://www.naver.com\">naver</a></li>\n",
    "    <li><a href=\"http://www.daum.net\">daum</a></li>\n",
    "    <li><a href=\"https://www.google.com\">google</a></li>\n",
    "    <li><a href=\"https://www.tistory.com\">tistory</a></li>\n",
    "  </ul>\n",
    "</body></html>\n",
    "\"\"\""
   ]
  },
  {
   "cell_type": "code",
   "execution_count": 2,
   "metadata": {},
   "outputs": [
    {
     "name": "stdout",
     "output_type": "stream",
     "text": [
      "prettify <html>\n",
      " <body>\n",
      "  <ul>\n",
      "   <li>\n",
      "    <a href=\"http://www.naver.com\">\n",
      "     naver\n",
      "    </a>\n",
      "   </li>\n",
      "   <li>\n",
      "    <a href=\"http://www.daum.net\">\n",
      "     daum\n",
      "    </a>\n",
      "   </li>\n",
      "   <li>\n",
      "    <a href=\"https://www.google.com\">\n",
      "     google\n",
      "    </a>\n",
      "   </li>\n",
      "   <li>\n",
      "    <a href=\"https://www.tistory.com\">\n",
      "     tistory\n",
      "    </a>\n",
      "   </li>\n",
      "  </ul>\n",
      " </body>\n",
      "</html>\n",
      "\n"
     ]
    }
   ],
   "source": [
    "soup = BeautifulSoup(html, 'html.parser')\n",
    "print('prettify',soup.prettify())"
   ]
  },
  {
   "cell_type": "markdown",
   "metadata": {},
   "source": [
    "태그선택자 이용<br>\n",
    "find_all을 사용하여 해당 태그의 모든 내용을 가져온다"
   ]
  },
  {
   "cell_type": "code",
   "execution_count": 3,
   "metadata": {},
   "outputs": [],
   "source": [
    "all_a = soup.find_all(\"a\")\n",
    "\n",
    "# string이 다음인 <a> 태그만 가져옴\n",
    "a = soup.find_all(\"a\", string=\"daum\")\n",
    "\n",
    "# string을 가져옴\n",
    "b = soup.find_all(string=[\"naver\", \"daum\"])\n",
    "\n",
    "# 태그가 <a>인 것을 2개까지 자겨옴\n",
    "c = soup.find_all(\"a\", limit=2)"
   ]
  },
  {
   "cell_type": "code",
   "execution_count": 4,
   "metadata": {},
   "outputs": [
    {
     "name": "stdout",
     "output_type": "stream",
     "text": [
      "all_a :  [<a href=\"http://www.naver.com\">naver</a>, <a href=\"http://www.daum.net\">daum</a>, <a href=\"https://www.google.com\">google</a>, <a href=\"https://www.tistory.com\">tistory</a>]\n",
      "a :  [<a href=\"http://www.daum.net\">daum</a>]\n",
      "b :  ['naver', 'daum']\n",
      "c :  [<a href=\"http://www.naver.com\">naver</a>, <a href=\"http://www.daum.net\">daum</a>]\n"
     ]
    }
   ],
   "source": [
    "print('all_a : ', all_a)\n",
    "print('a : ',a)\n",
    "print('b : ',b)\n",
    "print('c : ',c)"
   ]
  },
  {
   "cell_type": "code",
   "execution_count": 5,
   "metadata": {},
   "outputs": [
    {
     "name": "stdout",
     "output_type": "stream",
     "text": [
      "links [<a href=\"http://www.naver.com\">naver</a>, <a href=\"http://www.daum.net\">daum</a>, <a href=\"https://www.google.com\">google</a>, <a href=\"https://www.tistory.com\">tistory</a>]\n"
     ]
    }
   ],
   "source": [
    "links = soup.find_all(\"a\")\n",
    "print('links',links)"
   ]
  },
  {
   "cell_type": "code",
   "execution_count": 6,
   "metadata": {},
   "outputs": [
    {
     "name": "stdout",
     "output_type": "stream",
     "text": [
      "a :  <a href=\"http://www.naver.com\">naver</a>\n",
      "a.attrs {'href': 'http://www.naver.com'}\n",
      "naver >> http://www.naver.com\n",
      "\n",
      "a :  <a href=\"http://www.daum.net\">daum</a>\n",
      "a.attrs {'href': 'http://www.daum.net'}\n",
      "daum >> http://www.daum.net\n",
      "\n",
      "a :  <a href=\"https://www.google.com\">google</a>\n",
      "a.attrs {'href': 'https://www.google.com'}\n",
      "google >> https://www.google.com\n",
      "\n",
      "a :  <a href=\"https://www.tistory.com\">tistory</a>\n",
      "a.attrs {'href': 'https://www.tistory.com'}\n",
      "tistory >> https://www.tistory.com\n",
      "\n"
     ]
    }
   ],
   "source": [
    "# 출력\n",
    "# attrs를 이용해 해당 태그의 값들을 출력\n",
    "for a in links:\n",
    "    print('a : ',a)\n",
    "    print('a.attrs', a.attrs)# attrs : 속성을 의미, dict값으로 return한다.\n",
    "    \n",
    "    # attrs의 key는 'hred'\n",
    "    href = a.attrs['href']\n",
    "    text = a.string\n",
    "    print(text, \">>\", href)\n",
    "    print('')"
   ]
  }
 ],
 "metadata": {
  "kernelspec": {
   "display_name": "Python 3",
   "language": "python",
   "name": "python3"
  },
  "language_info": {
   "codemirror_mode": {
    "name": "ipython",
    "version": 3
   },
   "file_extension": ".py",
   "mimetype": "text/x-python",
   "name": "python",
   "nbconvert_exporter": "python",
   "pygments_lexer": "ipython3",
   "version": "3.5.3"
  }
 },
 "nbformat": 4,
 "nbformat_minor": 2
}
