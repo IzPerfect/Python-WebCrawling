{
 "cells": [
  {
   "cell_type": "markdown",
   "metadata": {},
   "source": [
    "181218\n",
    "### 인프런 추천-강좌 이미지 다운로드 및 파일 저장"
   ]
  },
  {
   "cell_type": "code",
   "execution_count": 1,
   "metadata": {
    "collapsed": true
   },
   "outputs": [],
   "source": [
    "from bs4 import BeautifulSoup\n",
    "import urllib.request as req\n",
    "import urllib.parse as rep\n",
    "import os\n",
    "import sys\n",
    "import io"
   ]
  },
  {
   "cell_type": "code",
   "execution_count": 2,
   "metadata": {},
   "outputs": [
    {
     "name": "stdout",
     "output_type": "stream",
     "text": [
      "https://www.inflearn.com/%EC%B6%94%EC%B2%9C-%EA%B0%95%EC%A2%8C\n"
     ]
    }
   ],
   "source": [
    "base = \"https://www.inflearn.com/\"\n",
    "\n",
    "quote = rep.quote_plus(\"추천-강좌\")\n",
    "url = base + quote\n",
    "\n",
    "print(url)"
   ]
  },
  {
   "cell_type": "code",
   "execution_count": 3,
   "metadata": {},
   "outputs": [],
   "source": [
    "res = req.urlopen(url)\n",
    "soup = BeautifulSoup(res,\"html.parser\")\n",
    "\n",
    "cwd = os.getcwd() # 현재 경로\n",
    "savePath = cwd + '/download_img_file/' # 다운로드 받을 경로\n",
    "if not os.path.exists(savePath): # 만약 입력한 경로가 없다면 만든 후 저장\n",
    "    os.makedirs(savePath)\n",
    "\n",
    "\n",
    "# 평점순 강좌 및 학생수순 => 참고로 로그인 했을 때랑 그냥 들어갈 때랑 강좌가 다르니 참고\n",
    "recommand = soup.select(\"ul.slides\")[1:]"
   ]
  },
  {
   "cell_type": "code",
   "execution_count": 4,
   "metadata": {},
   "outputs": [
    {
     "name": "stdout",
     "output_type": "stream",
     "text": [
      "강좌 정보 텍스트 출력 및 이미지 다운 완료!\n"
     ]
    }
   ],
   "source": [
    "i = 1\n",
    "for r in recommand:\n",
    "    for e in r:\n",
    "        with open(savePath+\"title2_\"+str(i)+\".txt\", \"wt\") as f:\n",
    "            f.write(e.select_one(\"h4.block_title > a \").string)\n",
    "\n",
    "        fullfilename = os.path.join(savePath, savePath+'img2_'+str(i)+'.png')\n",
    "        req.urlretrieve(e.select_one(\"a > img\")['src'],fullfilename)\n",
    "        i = i + 1\n",
    "    \n",
    "    \n",
    "\n",
    "print(\"강좌 정보 텍스트 출력 및 이미지 다운 완료!\")"
   ]
  }
 ],
 "metadata": {
  "kernelspec": {
   "display_name": "Python 3",
   "language": "python",
   "name": "python3"
  },
  "language_info": {
   "codemirror_mode": {
    "name": "ipython",
    "version": 3
   },
   "file_extension": ".py",
   "mimetype": "text/x-python",
   "name": "python",
   "nbconvert_exporter": "python",
   "pygments_lexer": "ipython3",
   "version": "3.5.3"
  }
 },
 "nbformat": 4,
 "nbformat_minor": 2
}
