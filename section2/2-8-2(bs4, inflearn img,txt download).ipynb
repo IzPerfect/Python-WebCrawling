{
 "cells": [
  {
   "cell_type": "markdown",
   "metadata": {},
   "source": [
    "181218\n",
    "### 인프런 추천-강좌 이미지 다운로드 및 파일 저장"
   ]
  },
  {
   "cell_type": "code",
   "execution_count": 1,
   "metadata": {
    "collapsed": true
   },
   "outputs": [],
   "source": [
    "from bs4 import BeautifulSoup\n",
    "import urllib.request as req\n",
    "import urllib.parse as rep\n",
    "import os\n",
    "import sys\n",
    "import io"
   ]
  },
  {
   "cell_type": "code",
   "execution_count": 2,
   "metadata": {},
   "outputs": [],
   "source": [
    "cwd = os.getcwd() # 현재 경로\n",
    "savePath = cwd + '/download_img_file/'\n",
    "base = \"https://www.inflearn.com/\"\n",
    "quote = rep.quote_plus(\"추천-강좌\")\n",
    "\n",
    "\n",
    "url = base + quote\n",
    "\n",
    "res = req.urlopen(url).read()\n",
    "\n",
    "soup = BeautifulSoup(res,\"html.parser\")\n",
    "\n",
    "recommand = soup.select(\"ul.slides\")[0]"
   ]
  },
  {
   "cell_type": "code",
   "execution_count": 3,
   "metadata": {},
   "outputs": [
    {
     "name": "stdout",
     "output_type": "stream",
     "text": [
      "Already exists!\n"
     ]
    }
   ],
   "source": [
    "try:\n",
    "    if not(os.path.isdir(savePath)):\n",
    "        os.makedirs(os.path.join(savePath))\n",
    "    else:\n",
    "        print('Already exists!')\n",
    "except OSError as e:\n",
    "    if e.errno != errno.EEXIST:\n",
    "        print(\"Failed to create directory!!!!!\")\n",
    "        raise"
   ]
  },
  {
   "cell_type": "markdown",
   "metadata": {},
   "source": [
    "### 한 번에 이미지나 문서를 다운 받을 때는 urlretrieve이 better"
   ]
  },
  {
   "cell_type": "code",
   "execution_count": 4,
   "metadata": {},
   "outputs": [
    {
     "name": "stdout",
     "output_type": "stream",
     "text": [
      "강좌 정보 텍스트 출력 및 이미지 다운 완료!\n"
     ]
    }
   ],
   "source": [
    "for i,e in enumerate(recommand,1):\n",
    "\n",
    "    with open(savePath+\"title_\"+str(i)+\".txt\", \"wt\") as f:\n",
    "        f.write(e.select_one(\"h4.block_title > a \").string)\n",
    "        \n",
    "    fullfilename = os.path.join(savePath, savePath+'img_'+str(i)+'.png')\n",
    "    #req.urlretrieve(e.select_one(\"div.block_media > a > img\")['src'],fullfilename)\n",
    "    req.urlretrieve(e.select_one(\"a > img\")['src'],fullfilename)\n",
    "    \n",
    "    '''\n",
    "    with open(savePath+\"img_\"+str(i)+\".png\", \"wb\") as f:\n",
    "\n",
    "        f_byte = req.urlopen(e.select_one(\"div.block_media > a > img\")['src']).read()\n",
    "        f.write(f_byte)    \n",
    "    '''    \n",
    "    \n",
    "\n",
    "print(\"강좌 정보 텍스트 출력 및 이미지 다운 완료!\")"
   ]
  }
 ],
 "metadata": {
  "kernelspec": {
   "display_name": "Python 3",
   "language": "python",
   "name": "python3"
  },
  "language_info": {
   "codemirror_mode": {
    "name": "ipython",
    "version": 3
   },
   "file_extension": ".py",
   "mimetype": "text/x-python",
   "name": "python",
   "nbconvert_exporter": "python",
   "pygments_lexer": "ipython3",
   "version": "3.5.3"
  }
 },
 "nbformat": 4,
 "nbformat_minor": 2
}
