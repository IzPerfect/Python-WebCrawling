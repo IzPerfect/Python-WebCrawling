{
 "cells": [
  {
   "cell_type": "code",
   "execution_count": 1,
   "metadata": {
    "collapsed": true
   },
   "outputs": [],
   "source": [
    "import urllib.request\n",
    "from urllib.parse import urlparse\n",
    "import io"
   ]
  },
  {
   "cell_type": "code",
   "execution_count": 2,
   "metadata": {},
   "outputs": [],
   "source": [
    "url = \"http://www.encar.com/\"\n",
    "\n",
    "mem = urllib.request.urlopen(url)"
   ]
  },
  {
   "cell_type": "code",
   "execution_count": 3,
   "metadata": {},
   "outputs": [
    {
     "name": "stdout",
     "output_type": "stream",
     "text": [
      "<class 'http.client.HTTPResponse'>\n",
      "geturl : http://www.encar.com/\n"
     ]
    }
   ],
   "source": [
    "print(type(mem))\n",
    "print(\"geturl :\",mem.geturl())"
   ]
  },
  {
   "cell_type": "markdown",
   "metadata": {},
   "source": [
    "200, 404등 요청에 대한 상태<br>\n",
    "상태에 따른 코드를 구현할 수 있다"
   ]
  },
  {
   "cell_type": "code",
   "execution_count": 4,
   "metadata": {},
   "outputs": [
    {
     "name": "stdout",
     "output_type": "stream",
     "text": [
      "status : 200\n",
      "getcode : 200\n"
     ]
    }
   ],
   "source": [
    "print(\"status :\",mem.status) \n",
    "print(\"getcode :\",mem.getcode())"
   ]
  },
  {
   "cell_type": "markdown",
   "metadata": {},
   "source": [
    "info는 getheaders를 줄바꿈 처리하여 볼 수 있음"
   ]
  },
  {
   "cell_type": "code",
   "execution_count": 5,
   "metadata": {},
   "outputs": [
    {
     "name": "stdout",
     "output_type": "stream",
     "text": [
      "headers : [('Date', 'Thu, 13 Dec 2018 08:54:49 GMT'), ('ETag', '\"0-d4a-5bbeaa80\"'), ('Last-Modified', 'Thu, 11 Oct 2018 01:42:24 GMT'), ('Accept-Ranges', 'bytes'), ('Content-Length', '3402'), ('Content-Type', 'text/html'), ('Cache-Control', 'max-age=2419200'), ('Expires', 'Thu, 10 Jan 2019 08:54:49 GMT'), ('Connection', 'close')]\n",
      "info : Date: Thu, 13 Dec 2018 08:54:49 GMT\n",
      "ETag: \"0-d4a-5bbeaa80\"\n",
      "Last-Modified: Thu, 11 Oct 2018 01:42:24 GMT\n",
      "Accept-Ranges: bytes\n",
      "Content-Length: 3402\n",
      "Content-Type: text/html\n",
      "Cache-Control: max-age=2419200\n",
      "Expires: Thu, 10 Jan 2019 08:54:49 GMT\n",
      "Connection: close\n",
      "\n",
      " \n",
      "\n"
     ]
    }
   ],
   "source": [
    "print(\"headers :\",mem.getheaders())\n",
    "print(\"info :\",mem.info(),\"\\n\") "
   ]
  },
  {
   "cell_type": "code",
   "execution_count": 6,
   "metadata": {},
   "outputs": [
    {
     "name": "stdout",
     "output_type": "stream",
     "text": [
      "read : <!DOCTYPE html>\r\n",
      "<ht\n"
     ]
    }
   ],
   "source": [
    "# mem.read(숫자), 해당 숫자만큼 읽음(적당한 양만큼 read)\n",
    "print(\"read :\",mem.read(20).decode('utf-8')) "
   ]
  },
  {
   "cell_type": "markdown",
   "metadata": {},
   "source": [
    "파싱해서 표시한다<br>\n",
    "\n",
    "**Parsing?**<br>\n",
    "쉽게 말해 데이터를 조립해 원하는 데이터를 빼내는 프로그램을 하는 것\n"
   ]
  },
  {
   "cell_type": "code",
   "execution_count": 7,
   "metadata": {},
   "outputs": [
    {
     "name": "stdout",
     "output_type": "stream",
     "text": [
      "ParseResult(scheme='http', netloc='www.encar.com', path='/', params='', query='', fragment='')\n"
     ]
    }
   ],
   "source": [
    "print(urlparse('http://www.encar.com/')) # 파싱"
   ]
  },
  {
   "cell_type": "code",
   "execution_count": 8,
   "metadata": {},
   "outputs": [
    {
     "name": "stdout",
     "output_type": "stream",
     "text": [
      "ParseResult(scheme='http', netloc='www.encar.com', path='', params='', query='test=test', fragment='')\n"
     ]
    }
   ],
   "source": [
    "print(urlparse('http://www.encar.com?test=test'))"
   ]
  },
  {
   "cell_type": "code",
   "execution_count": 9,
   "metadata": {},
   "outputs": [
    {
     "name": "stdout",
     "output_type": "stream",
     "text": [
      "test=test\n"
     ]
    }
   ],
   "source": [
    "print(urlparse('http://www.encar.com?test=test').query) # query 부분만"
   ]
  }
 ],
 "metadata": {
  "kernelspec": {
   "display_name": "Python 3",
   "language": "python",
   "name": "python3"
  },
  "language_info": {
   "codemirror_mode": {
    "name": "ipython",
    "version": 3
   },
   "file_extension": ".py",
   "mimetype": "text/x-python",
   "name": "python",
   "nbconvert_exporter": "python",
   "pygments_lexer": "ipython3",
   "version": "3.5.5"
  }
 },
 "nbformat": 4,
 "nbformat_minor": 2
}
