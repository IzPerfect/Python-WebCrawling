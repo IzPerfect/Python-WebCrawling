{
 "cells": [
  {
   "cell_type": "code",
   "execution_count": 1,
   "metadata": {},
   "outputs": [
    {
     "name": "stdout",
     "output_type": "stream",
     "text": [
      "{}\n"
     ]
    }
   ],
   "source": [
    "import sys\n",
    "import io\n",
    "import requests, json\n",
    "\n",
    "#Rest : POST, GET, PUT:UPDATE, REPLACE (FETCH : UPDATE, MODIFY), DELETE\n",
    "\n",
    "payload1 = {'key1': 'value1', 'key2': 'value2'} #dict\n",
    "payload2 = (('key1','value1'),('key2','value2')) #tuple\n",
    "payload3 = {'some':'nice'}\n",
    "\n",
    "#r = requests.put('http://httpbin.org/user/delete', data=payload1)\n",
    "#print(r.text)\n",
    "\n",
    "# 등록된 글을 나타냄\n",
    "#fake rest API 실제로 저장은 되지 않았지만 fake로\n",
    "\n",
    "#r = requests.put('https://jsonplaceholder.typicode.com/posts/1',data=payload1)\n",
    "#print(r.text)\n",
    "\n",
    "# 첫번째 글을 지워라라고 볼 수 있다.\n",
    "r = requests.delete('https://jsonplaceholder.typicode.com/posts/1')\n",
    "print(r.text)\n"
   ]
  }
 ],
 "metadata": {
  "kernelspec": {
   "display_name": "Python 3",
   "language": "python",
   "name": "python3"
  },
  "language_info": {
   "codemirror_mode": {
    "name": "ipython",
    "version": 3
   },
   "file_extension": ".py",
   "mimetype": "text/x-python",
   "name": "python",
   "nbconvert_exporter": "python",
   "pygments_lexer": "ipython3",
   "version": "3.5.3"
  }
 },
 "nbformat": 4,
 "nbformat_minor": 2
}
