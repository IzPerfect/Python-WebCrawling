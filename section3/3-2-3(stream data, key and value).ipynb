{
 "cells": [
  {
   "cell_type": "code",
   "execution_count": 1,
   "metadata": {
    "collapsed": true
   },
   "outputs": [],
   "source": [
    "import sys\n",
    "import io\n",
    "import requests, json"
   ]
  },
  {
   "cell_type": "markdown",
   "metadata": {},
   "source": [
    "stream은 json파일과 비슷하지만 그렇지 않다."
   ]
  },
  {
   "cell_type": "code",
   "execution_count": 2,
   "metadata": {},
   "outputs": [
    {
     "name": "stdout",
     "output_type": "stream",
     "text": [
      "None\n"
     ]
    }
   ],
   "source": [
    "s = requests.Session()\n",
    "\n",
    "r = s.get('http://httpbin.org/stream/20', stream=True)\n",
    "#print(r.text)\n",
    "print(r.encoding)\n",
    "#print(r.json())"
   ]
  },
  {
   "cell_type": "markdown",
   "metadata": {},
   "source": [
    "인코딩이 되어 있지 않으면 utf-8로 실행"
   ]
  },
  {
   "cell_type": "code",
   "execution_count": 3,
   "metadata": {
    "collapsed": true
   },
   "outputs": [],
   "source": [
    "if r.encoding is None:\n",
    "    r.encoding = 'utf-8'"
   ]
  },
  {
   "cell_type": "code",
   "execution_count": 4,
   "metadata": {
    "scrolled": false
   },
   "outputs": [
    {
     "name": "stdout",
     "output_type": "stream",
     "text": [
      "key: url\n",
      "key: args\n",
      "key: id\n",
      "key: origin\n",
      "key: headers\n",
      "key: url\n",
      "key: args\n",
      "key: id\n",
      "key: origin\n",
      "key: headers\n",
      "key: url\n",
      "key: args\n",
      "key: id\n",
      "key: origin\n",
      "key: headers\n",
      "key: url\n",
      "key: args\n",
      "key: id\n",
      "key: origin\n",
      "key: headers\n",
      "key: url\n",
      "key: args\n",
      "key: id\n",
      "key: origin\n",
      "key: headers\n",
      "key: url\n",
      "key: args\n",
      "key: id\n",
      "key: origin\n",
      "key: headers\n",
      "key: url\n",
      "key: args\n",
      "key: id\n",
      "key: origin\n",
      "key: headers\n",
      "key: url\n",
      "key: args\n",
      "key: id\n",
      "key: origin\n",
      "key: headers\n",
      "key: url\n",
      "key: args\n",
      "key: id\n",
      "key: origin\n",
      "key: headers\n",
      "key: url\n",
      "key: args\n",
      "key: id\n",
      "key: origin\n",
      "key: headers\n",
      "key: url\n",
      "key: args\n",
      "key: id\n",
      "key: origin\n",
      "key: headers\n",
      "key: url\n",
      "key: args\n",
      "key: id\n",
      "key: origin\n",
      "key: headers\n",
      "key: url\n",
      "key: args\n",
      "key: id\n",
      "key: origin\n",
      "key: headers\n",
      "key: url\n",
      "key: args\n",
      "key: id\n",
      "key: origin\n",
      "key: headers\n",
      "key: url\n",
      "key: args\n",
      "key: id\n",
      "key: origin\n",
      "key: headers\n",
      "key: url\n",
      "key: args\n",
      "key: id\n",
      "key: origin\n",
      "key: headers\n",
      "key: url\n",
      "key: args\n",
      "key: id\n",
      "key: origin\n",
      "key: headers\n",
      "key: url\n",
      "key: args\n",
      "key: id\n",
      "key: origin\n",
      "key: headers\n",
      "key: url\n",
      "key: args\n",
      "key: id\n",
      "key: origin\n",
      "key: headers\n",
      "key: url\n",
      "key: args\n",
      "key: id\n",
      "key: origin\n",
      "key: headers\n"
     ]
    }
   ],
   "source": [
    "for line in r.iter_lines(decode_unicode=True):\n",
    "    #print(line)\n",
    "    b = json.loads(line) #dict\n",
    "    for e in b.keys():\n",
    "        print(\"key:\",e)\n",
    "        #print(\"values:\",b[e])"
   ]
  },
  {
   "cell_type": "code",
   "execution_count": null,
   "metadata": {
    "collapsed": true
   },
   "outputs": [],
   "source": []
  }
 ],
 "metadata": {
  "kernelspec": {
   "display_name": "Python 3",
   "language": "python",
   "name": "python3"
  },
  "language_info": {
   "codemirror_mode": {
    "name": "ipython",
    "version": 3
   },
   "file_extension": ".py",
   "mimetype": "text/x-python",
   "name": "python",
   "nbconvert_exporter": "python",
   "pygments_lexer": "ipython3",
   "version": "3.5.3"
  }
 },
 "nbformat": 4,
 "nbformat_minor": 2
}
