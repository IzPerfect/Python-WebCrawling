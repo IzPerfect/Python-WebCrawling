{
 "cells": [
  {
   "cell_type": "code",
   "execution_count": 1,
   "metadata": {
    "collapsed": true
   },
   "outputs": [],
   "source": [
    "import requests\n",
    "from bs4 import BeautifulSoup\n",
    "import sys\n",
    "import io"
   ]
  },
  {
   "cell_type": "code",
   "execution_count": 2,
   "metadata": {
    "collapsed": true
   },
   "outputs": [],
   "source": [
    "# 로그인 유저정보\n",
    "LOGIN_INFO = {\n",
    "    'user_id': '아이디',\n",
    "    'user_pw': '비밀번호'\n",
    "}"
   ]
  },
  {
   "cell_type": "code",
   "execution_count": null,
   "metadata": {
    "collapsed": true
   },
   "outputs": [],
   "source": [
    "# Session 생성, with 구문 안에서 유지\n",
    "with requests.Session() as s:\n",
    "\n",
    "    login_req = s.post('https://user.ruliweb.com/member/login_proc', data=LOGIN_INFO)\n",
    "    # HTML 소스 확인\n",
    "    #print('login_req',login_req.text)\n",
    "    # HTTP Header 확인\n",
    "    #print('login_req',login_req.headers)\n",
    "\n",
    "    # Response 정상 확인\n",
    "    if login_req.status_code == 200 and login_req.ok:\n",
    "        #권한이 필요한 게시판 게시글 가져오기\n",
    "        post_one = s.get('http://market.ruliweb.com/read.htm?table=market_ps&page=1&num=4455742&find=&ftext=')\n",
    "        \n",
    "        #예외 발생하면 처리\n",
    "        post_one.raise_for_status() \n",
    "        #print(post_one.text)\n",
    "        \n",
    "        #BeautifulSoup 선언\n",
    "        soup = BeautifulSoup(post_one.text,'html.parser')\n",
    "        #print(soup.prettify())\n",
    "        article = soup.select_one(\"table:nth-of-type(3)\").find_all('p')\n",
    "        #print(article)\n",
    "        for i in article:\n",
    "            if i.string is not None and i.img == None:\n",
    "                print(i.string)"
   ]
  }
 ],
 "metadata": {
  "kernelspec": {
   "display_name": "Python 3",
   "language": "python",
   "name": "python3"
  },
  "language_info": {
   "codemirror_mode": {
    "name": "ipython",
    "version": 3
   },
   "file_extension": ".py",
   "mimetype": "text/x-python",
   "name": "python",
   "nbconvert_exporter": "python",
   "pygments_lexer": "ipython3",
   "version": "3.5.3"
  }
 },
 "nbformat": 4,
 "nbformat_minor": 2
}
