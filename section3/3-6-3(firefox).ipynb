{
 "cells": [
  {
   "cell_type": "code",
   "execution_count": null,
   "metadata": {
    "collapsed": true
   },
   "outputs": [],
   "source": [
    "import sys\n",
    "import io\n",
    "from selenium import webdriver\n",
    "from selenium.webdriver.firefox.options import Options\n",
    "\n",
    "sys.stdout = io.TextIOWrapper(sys.stdout.detach(), encoding = 'utf-8')\n",
    "sys.stderr = io.TextIOWrapper(sys.stderr.detach(), encoding = 'utf-8')\n",
    "\n",
    "firefox_options = Options()\n",
    "firefox_options.add_argument(\"--headless\")\n",
    "firefox_options.add_argument('--log-level=3')\n",
    "#`driver = webdriver.Firefox(firefox_options=firefox_options,executable_path='C:/section3/webdriver/firefox/geckodriver')\n",
    "driver = webdriver.Firefox(executable_path='C:/section3/webdriver/firefox/geckodriver')\n",
    "\n",
    "#driver.set_window_size(1920, 1280)\n",
    "driver.implicitly_wait(5)\n",
    "\n",
    "driver.get('https://google.com')\n",
    "\n",
    "driver.save_screenshot(\"c:/Website1.png\")\n",
    "\n",
    "driver.implicitly_wait(5)\n",
    "\n",
    "driver.get('https://www.daum.net')\n",
    "\n",
    "driver.save_screenshot(\"c:/Website2.png\")\n",
    "driver.quit()\n"
   ]
  }
 ],
 "metadata": {
  "kernelspec": {
   "display_name": "Python 3",
   "language": "python",
   "name": "python3"
  },
  "language_info": {
   "codemirror_mode": {
    "name": "ipython",
    "version": 3
   },
   "file_extension": ".py",
   "mimetype": "text/x-python",
   "name": "python",
   "nbconvert_exporter": "python",
   "pygments_lexer": "ipython3",
   "version": "3.5.3"
  }
 },
 "nbformat": 4,
 "nbformat_minor": 2
}
