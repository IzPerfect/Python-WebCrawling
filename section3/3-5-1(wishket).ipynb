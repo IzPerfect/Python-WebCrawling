{
 "cells": [
  {
   "cell_type": "code",
   "execution_count": null,
   "metadata": {
    "collapsed": true
   },
   "outputs": [],
   "source": [
    "import sys\n",
    "import io\n",
    "from bs4 import BeautifulSoup\n",
    "import requests\n",
    "from fake_useragent import UserAgent"
   ]
  },
  {
   "cell_type": "code",
   "execution_count": null,
   "metadata": {
    "collapsed": true
   },
   "outputs": [],
   "source": [
    "#요청 URL\n",
    "URL = 'https://www.wishket.com/accounts/login/'\n",
    "\n",
    "# Fake User-Agent 생성\n",
    "# 브라우저로 접속해야하므로 생성시켜준다.\n",
    "ua = UserAgent()\n",
    "\n",
    "#print(ua.ie)\n",
    "#print(ua.chrome)\n",
    "#print(ua.random)\n",
    "\n",
    "with requests.Session() as s:\n",
    "    # URL연결, 요청을 하기 전에 연결을 시킨다.\n",
    "    # 왜? 브라우저로 접속을 해야 쿠키, 토큰을 받아옴\n",
    "    \n",
    "    s.get(URL)\n",
    "    #Login 정보 Payload\n",
    "    LOGIN_INFO = {\n",
    "        'identification': '아이디',\n",
    "        'password': '비밀번호',\n",
    "        'csrfmiddlewaretoken': s.cookies['csrftoken']\n",
    "    }\n",
    "    #요청\n",
    "    # User-Agent : 크롬으로 접속했다고 알려줌\n",
    "    # Referer : 어디를 어떤 경로로 통하여 들어왔는지... 이것을 참고자료로 마켓팅 등에 사용할 수 있음\n",
    "    response = s.post(URL,data=LOGIN_INFO,headers={'User-Agent':str(ua.chrome), 'Referer':'https://www.wishket.com/accounts/login/'})\n",
    "    #HTML 결과 확인\n",
    "    #print('response',response.text)\n",
    "    if response.status_code == 200 and response.ok:\n",
    "        soup = BeautifulSoup(response.text,'html.parser')\n",
    "        projectList = soup.select(\"table.table-responsive > tbody > tr\")\n",
    "        for i in projectList:\n",
    "            print(i.find('th').string,i.find('td').text)"
   ]
  }
 ],
 "metadata": {
  "kernelspec": {
   "display_name": "Python 3",
   "language": "python",
   "name": "python3"
  },
  "language_info": {
   "codemirror_mode": {
    "name": "ipython",
    "version": 3
   },
   "file_extension": ".py",
   "mimetype": "text/x-python",
   "name": "python",
   "nbconvert_exporter": "python",
   "pygments_lexer": "ipython3",
   "version": "3.5.3"
  }
 },
 "nbformat": 4,
 "nbformat_minor": 2
}
